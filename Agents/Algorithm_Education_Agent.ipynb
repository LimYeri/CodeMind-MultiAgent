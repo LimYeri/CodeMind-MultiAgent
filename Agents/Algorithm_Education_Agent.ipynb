{
 "cells": [
  {
   "cell_type": "code",
   "execution_count": 1,
   "id": "eb33105a-5c55-494b-85d5-e97309eb4f31",
   "metadata": {},
   "outputs": [
    {
     "data": {
      "text/plain": [
       "'3.10.14 | packaged by Anaconda, Inc. | (main, May  6 2024, 19:44:50) [MSC v.1916 64 bit (AMD64)]'"
      ]
     },
     "execution_count": 1,
     "metadata": {},
     "output_type": "execute_result"
    }
   ],
   "source": [
    "import sys\n",
    "sys.version "
   ]
  },
  {
   "cell_type": "code",
   "execution_count": 2,
   "id": "eefbbfbd-8d2f-400c-9d4d-58374e3961f7",
   "metadata": {},
   "outputs": [
    {
     "data": {
      "text/plain": [
       "True"
      ]
     },
     "execution_count": 2,
     "metadata": {},
     "output_type": "execute_result"
    }
   ],
   "source": [
    "# API 키를 환경변수로 관리하기 위한 설정 파일\n",
    "from dotenv import load_dotenv\n",
    "\n",
    "# API 키 정보 로드\n",
    "load_dotenv()"
   ]
  },
  {
   "cell_type": "code",
   "execution_count": 4,
   "id": "ad838ba6-2a95-412c-88ee-4ebe08b16fd1",
   "metadata": {},
   "outputs": [],
   "source": [
    "from langchain_community.chat_models.openai import ChatOpenAI\n",
    "import os\n",
    "\n",
    "gpt3 = ChatOpenAI(model_name=\"gpt-3.5-turbo\", api_key=os.getenv(\"OPENAI_API_KEY\"))"
   ]
  },
  {
   "cell_type": "code",
   "execution_count": 8,
   "id": "6142eea9-e1b3-4d48-9af4-9a7dac414ad8",
   "metadata": {},
   "outputs": [],
   "source": [
    "class CustomStrOutputParser(StrOutputParser):\n",
    "    def parse(self, output: str):\n",
    "        print(output)\n",
    "        return super().parse(output)"
   ]
  },
  {
   "cell_type": "code",
   "execution_count": 7,
   "id": "69e7df20-51ea-42a6-870d-3fdf7f497e3f",
   "metadata": {},
   "outputs": [],
   "source": [
    "from typing import Optional, Callable\n",
    "from langchain.prompts import ChatPromptTemplate\n",
    "from langchain.schema import StrOutputParser\n",
    "\n",
    "def create_prompt_chain(\n",
    "    system_template: str, \n",
    "    human_template: str,\n",
    "    model: Optional[ChatOpenAI] = None) -> Callable:\n",
    "    prompt = ChatPromptTemplate.from_messages([\n",
    "        (\"system\", system_template), \n",
    "        (\"human\", human_template)\n",
    "    ])\n",
    "    return prompt | model | CustomStrOutputParser()"
   ]
  },
  {
   "cell_type": "code",
   "execution_count": 9,
   "id": "6775fb48-0c19-4047-8ddc-0b27b9afd573",
   "metadata": {},
   "outputs": [],
   "source": [
    "import re\n",
    "\n",
    "# Step 1: 사용자 입력으로부터 검색 쿼리 생성\n",
    "def create_search_query(user_input):\n",
    "    query_template = \"\"\"\n",
    "    You are an expert in algorithms and data structures. Based on the user's input, generate a simple query to search for the key concept on Wikipedia. The input is: \"{user_input}\". Create the query to capture the essence of the user's question in simple keywords. \n",
    "    \n",
    "    Please format your response as follows:\n",
    "    Wikipedia Query: [Your query]\n",
    "    \"\"\"\n",
    "    query_chain = create_prompt_chain(query_template, \"{user_input}\", gpt3)\n",
    "    query = query_chain.invoke({\"user_input\": user_input})\n",
    "    query_match = re.search(r'Wikipedia Query:\\s*(.*)', query).group(1).strip()\n",
    "    return query_match"
   ]
  },
  {
   "cell_type": "code",
   "execution_count": 10,
   "id": "8f74c241-5815-43f3-a8f9-88c9c38aa260",
   "metadata": {},
   "outputs": [
    {
     "name": "stdout",
     "output_type": "stream",
     "text": [
      "Wikipedia Query: Selection Sort Algorithm\n",
      "Selection Sort Algorithm\n"
     ]
    }
   ],
   "source": [
    "# 예시 사용법\n",
    "user_input = \"I don't really understand what the Selection Sort algorithm is. Please explain it to me in detail and in an easy way.\"\n",
    "search_query = create_search_query(user_input)\n",
    "print(search_query)"
   ]
  },
  {
   "cell_type": "code",
   "execution_count": null,
   "id": "97e835cb-9b12-4263-96fd-2ce194691aa3",
   "metadata": {},
   "outputs": [],
   "source": []
  },
  {
   "cell_type": "code",
   "execution_count": 11,
   "id": "af508323-2577-496d-842b-82a75c7e4daf",
   "metadata": {},
   "outputs": [],
   "source": [
    "from langchain.document_loaders import WikipediaLoader\n",
    "# Step 2: WikipediaLoader로 문서 검색\n",
    "def search_wikipedia(query):\n",
    "    loader =  WikipediaLoader(query=query, load_max_docs=2)  # 최대 2개의 문서 로드\n",
    "    documents = loader.load()\n",
    "    return documents"
   ]
  },
  {
   "cell_type": "code",
   "execution_count": 12,
   "id": "512c8aab-7d3d-468c-a8ea-74cf7ee2f7ec",
   "metadata": {},
   "outputs": [],
   "source": [
    "documents = search_wikipedia(search_query)"
   ]
  },
  {
   "cell_type": "code",
   "execution_count": 13,
   "id": "195c1c9d-489d-4680-8b4f-a4194e7d3933",
   "metadata": {},
   "outputs": [
    {
     "data": {
      "text/plain": [
       "[Document(metadata={'title': 'Selection sort', 'summary': 'In computer science, selection sort is an in-place comparison sorting algorithm. It has an O(n2) time complexity, which makes it inefficient on large lists, and generally performs worse than the similar insertion sort. Selection sort is noted for its simplicity and has performance advantages over more complicated algorithms in certain situations, particularly where auxiliary memory is limited.\\nThe algorithm divides the input list into two parts: a sorted sublist of items which is built up from left to right at the front (left) of the list and a sublist of the remaining unsorted items that occupy the rest of the list. Initially, the sorted sublist is empty and the unsorted sublist is the entire input list. The algorithm proceeds by finding the smallest (or largest, depending on sorting order) element in the unsorted sublist, exchanging (swapping) it with the leftmost unsorted element (putting it in sorted order), and moving the sublist boundaries one element to the right. \\nThe time efficiency of selection sort is quadratic, so there are a number of sorting techniques which have better time complexity than selection sort.', 'source': 'https://en.wikipedia.org/wiki/Selection_sort'}, page_content='In computer science, selection sort is an in-place comparison sorting algorithm. It has an O(n2) time complexity, which makes it inefficient on large lists, and generally performs worse than the similar insertion sort. Selection sort is noted for its simplicity and has performance advantages over more complicated algorithms in certain situations, particularly where auxiliary memory is limited.\\nThe algorithm divides the input list into two parts: a sorted sublist of items which is built up from left to right at the front (left) of the list and a sublist of the remaining unsorted items that occupy the rest of the list. Initially, the sorted sublist is empty and the unsorted sublist is the entire input list. The algorithm proceeds by finding the smallest (or largest, depending on sorting order) element in the unsorted sublist, exchanging (swapping) it with the leftmost unsorted element (putting it in sorted order), and moving the sublist boundaries one element to the right. \\nThe time efficiency of selection sort is quadratic, so there are a number of sorting techniques which have better time complexity than selection sort.\\n\\n\\n== Example ==\\nHere is an example of this sort algorithm sorting five elements:\\n\\n(Nothing appears changed on these last two lines because the last two numbers were already in order.)\\nSelection sort can also be used on list structures that make add and remove efficient, such as a linked list. In this case it is more common to remove the minimum element from the remainder of the list, and then insert it at the end of the values sorted so far. For example:\\n\\narr[] = 64 25 12 22 11\\n\\n// Find the minimum element in arr[0...4]\\n// and place it at beginning\\n11 25 12 22 64\\n\\n// Find the minimum element in arr[1...4]\\n// and place it at beginning of arr[1...4]\\n11 12 25 22 64\\n\\n// Find the minimum element in arr[2...4]\\n// and place it at beginning of arr[2...4]\\n11 12 22 25 64\\n\\n// Find the minimum element in arr[3...4]\\n// and place it at beginning of arr[3...4]\\n11 12 22 25 64 \\n\\n\\n== Implementations ==\\nBelow is an implementation in C.\\n\\n\\n== Complexity ==\\nSelection sort is not difficult to analyze compared to other sorting algorithms, since none of the loops depend on the data in the array. Selecting the minimum requires scanning \\n  \\n    \\n      \\n        n\\n      \\n    \\n    {\\\\displaystyle n}\\n  \\n elements (taking \\n  \\n    \\n      \\n        n\\n        −\\n        1\\n      \\n    \\n    {\\\\displaystyle n-1}\\n  \\n comparisons) and then swapping it into the first position. Finding the next lowest element requires scanning the remaining \\n  \\n    \\n      \\n        n\\n        −\\n        1\\n      \\n    \\n    {\\\\displaystyle n-1}\\n  \\n elements (taking \\n  \\n    \\n      \\n        n\\n        −\\n        2\\n      \\n    \\n    {\\\\displaystyle n-2}\\n  \\n comparisons) and so on. Therefore, the total number of comparisons is\\n\\n  \\n    \\n      \\n        (\\n        n\\n        −\\n        1\\n        )\\n        +\\n        (\\n        n\\n        −\\n        2\\n        )\\n        +\\n        ⋯\\n        +\\n        1\\n        =\\n        \\n          ∑\\n          \\n            i\\n            =\\n            1\\n          \\n          \\n            n\\n            −\\n            1\\n          \\n        \\n        i\\n      \\n    \\n    {\\\\displaystyle (n-1)+(n-2)+\\\\dots +1=\\\\sum _{i=1}^{n-1}i}\\n  \\n\\nBy arithmetic progression,\\n\\n  \\n    \\n      \\n        \\n          ∑\\n          \\n            i\\n            =\\n            1\\n          \\n          \\n            n\\n            −\\n            1\\n          \\n        \\n        i\\n        =\\n        \\n          \\n            \\n              (\\n              n\\n              −\\n              1\\n              )\\n              +\\n              1\\n            \\n            2\\n          \\n        \\n        (\\n        n\\n        −\\n        1\\n        )\\n        =\\n        \\n          \\n            1\\n            2\\n          \\n        \\n        n\\n        (\\n        n\\n        −\\n        1\\n        )\\n        =\\n        \\n          \\n            1\\n            2\\n          \\n        \\n        (\\n        \\n          n\\n          \\n            2\\n          \\n        \\n        −\\n'),\n",
       " Document(metadata={'title': 'Sorting algorithm', 'summary': 'In computer science, a sorting algorithm is an algorithm that puts elements of a list into an order. The most frequently used orders are numerical order and lexicographical order, and either ascending or descending. Efficient sorting is important for optimizing the efficiency of other algorithms (such as search and merge algorithms) that require input data to be in sorted lists. Sorting is also often useful for canonicalizing data and for producing human-readable output.\\nFormally, the output of any sorting algorithm must satisfy two conditions:\\n\\nThe output is in monotonic order (each element is no smaller/larger than the previous element, according to the required order).\\nThe output is a permutation (a reordering, yet retaining all of the original elements) of the input.\\nAlthough some algorithms are designed for sequential access, the highest-performing algorithms assume data is stored in a data structure which allows random access.\\n\\n', 'source': 'https://en.wikipedia.org/wiki/Sorting_algorithm'}, page_content='In computer science, a sorting algorithm is an algorithm that puts elements of a list into an order. The most frequently used orders are numerical order and lexicographical order, and either ascending or descending. Efficient sorting is important for optimizing the efficiency of other algorithms (such as search and merge algorithms) that require input data to be in sorted lists. Sorting is also often useful for canonicalizing data and for producing human-readable output.\\nFormally, the output of any sorting algorithm must satisfy two conditions:\\n\\nThe output is in monotonic order (each element is no smaller/larger than the previous element, according to the required order).\\nThe output is a permutation (a reordering, yet retaining all of the original elements) of the input.\\nAlthough some algorithms are designed for sequential access, the highest-performing algorithms assume data is stored in a data structure which allows random access.\\n\\n\\n== History and concepts ==\\nFrom the beginning of computing, the sorting problem has attracted a great deal of research, perhaps due to the complexity of solving it efficiently despite its simple, familiar statement. Among the authors of early sorting algorithms around 1951 was Betty Holberton, who worked on ENIAC and UNIVAC. Bubble sort was analyzed as early as 1956. Asymptotically optimal algorithms have been known since the mid-20th century –  new algorithms are still being invented, with the widely used Timsort dating to 2002, and the library sort being first published in 2006.\\nComparison sorting algorithms have a fundamental requirement of Ω(n log n) comparisons (some input sequences will require a multiple of n log n comparisons, where n is the number of elements in the array to be sorted). Algorithms not based on comparisons, such as counting sort, can have better performance.\\nSorting algorithms are prevalent in introductory computer science classes, where the abundance of algorithms for the problem provides a gentle introduction to a variety of core algorithm concepts, such as big O notation, divide-and-conquer algorithms, data structures such as heaps and binary trees, randomized algorithms, best, worst and average case analysis, time–space tradeoffs, and upper and lower bounds.\\nSorting small arrays optimally (in fewest comparisons and swaps) or fast (i.e. taking into account machine specific details) is still an open research problem, with solutions only known for very small arrays (<20 elements). Similarly optimal (by various definitions) sorting on a parallel machine is an open research topic.\\n\\n\\n== Classification ==\\nSorting algorithms can be classified by:\\n\\nComputational complexity\\nBest, worst and average case behavior in terms of the size of the list. For typical serial sorting algorithms, good behavior is O(n log n), with parallel sort in O(log2 n), and bad behavior is O(n2). Ideal behavior for a serial sort is O(n), but this is not possible in the average case. Optimal parallel sorting is O(log n).\\nSwaps for \"in-place\" algorithms.\\nMemory usage (and use of other computer resources). In particular, some sorting algorithms are \"in-place\". Strictly, an in-place sort needs only O(1) memory beyond the items being sorted; sometimes O(log n) additional memory is considered \"in-place\".\\nRecursion: Some algorithms are either recursive or non-recursive, while others may be both (e.g., merge sort).\\nStability: stable sorting algorithms maintain the relative order of records with equal keys (i.e., values).\\nWhether or not they are a comparison sort. A comparison sort examines the data only by comparing two elements with a comparison operator.\\nGeneral method: insertion, exchange, selection, merging, etc. Exchange sorts include bubble sort and quicksort. Selection sorts include cycle sort and heapsort.\\nWhether the algorithm is serial or parallel. The remainder of this discussion almost exclusively concentrates upon serial algorithms and assumes serial operation.\\nAdaptability: Whether or not the preso')]"
      ]
     },
     "execution_count": 13,
     "metadata": {},
     "output_type": "execute_result"
    }
   ],
   "source": [
    "documents"
   ]
  },
  {
   "cell_type": "code",
   "execution_count": null,
   "id": "7a6376b7-1da4-48cd-a0d6-3489c0c33380",
   "metadata": {},
   "outputs": [],
   "source": []
  },
  {
   "cell_type": "code",
   "execution_count": 14,
   "id": "c79015f9-a6c2-487b-9890-9210970e4ddf",
   "metadata": {},
   "outputs": [],
   "source": [
    "def escape_latex(text):\n",
    "    # LaTeX 수식을 찾아 이스케이프 처리 (줄바꿈 포함)\n",
    "    def replace_latex(match):\n",
    "        return '{{' + match.group(1) + '}}' + match.group(2)\n",
    "    \n",
    "    # {\\\\displaystyle ...}\\n 패턴을 찾아 이스케이프 처리\n",
    "    escaped = re.sub(r'(\\{\\\\displaystyle [^}]+\\})(\\n?)', replace_latex, text)\n",
    "    \n",
    "    # 남은 중괄호들을 이스케이프 처리\n",
    "    escaped = escaped.replace(\"{\", \"{{\").replace(\"}\", \"}}\")\n",
    "    \n",
    "    return escaped"
   ]
  },
  {
   "cell_type": "code",
   "execution_count": 20,
   "id": "f859b431-3fd1-4497-b042-d2bedefe4416",
   "metadata": {},
   "outputs": [],
   "source": [
    "# Step 3: 검색된 결과를 바탕으로 답변 생성\n",
    "def generate_answer(documents, user_input):\n",
    "    qa_template = \"\"\"\n",
    "    Based on the Wikipedia content provided below, answer the user's question in a detailed and easy-to-understand way.\n",
    "    \n",
    "    Wikipedia content: {document_content}\n",
    "    \n",
    "    The user asked: {user_input}\n",
    "    \n",
    "    Provide a thorough and easy-to-follow explanation, ensuring the response is detailed and simplified for clear understanding using the Wikipedia data. \n",
    "    Additionally, use examples to make the explanation clearer and more relatable.\n",
    "    \"\"\"\n",
    "    qa_chain = create_prompt_chain(qa_template, \"{user_input}\\n{document_content}\", gpt3)\n",
    "    document_content = \" \".join([escape_latex(doc.page_content) for doc in documents])\n",
    "    \n",
    "    # documents는 WikipediaLoader로부터 로드된 문서들이며, 이를 기반으로 답변 생성\n",
    "    answer = qa_chain.invoke({\"user_input\": user_input, \"document_content\": document_content})\n",
    "    return answer"
   ]
  },
  {
   "cell_type": "code",
   "execution_count": 23,
   "id": "46da5030-c0ac-47ca-ad3a-32d75afd0dba",
   "metadata": {},
   "outputs": [
    {
     "name": "stdout",
     "output_type": "stream",
     "text": [
      "Selection Sort is a simple and easy-to-understand sorting algorithm used in computer science. It is an in-place comparison-based sorting algorithm, meaning it doesn't require extra memory space for sorting. Here's a detailed explanation of how Selection Sort works:\n",
      "\n",
      "1. **Dividing the Input List**: The algorithm starts by dividing the input list into two parts:\n",
      "   - Sorted Sublist: Initially empty, it will gradually build up from left to right.\n",
      "   - Unsorted Sublist: Initially, the entire input list is unsorted.\n",
      "\n",
      "2. **Sorting Process**:\n",
      "   - The algorithm repeatedly finds the smallest (or largest) element from the unsorted sublist.\n",
      "   - It then swaps this element with the leftmost element of the unsorted sublist, putting it in its correct sorted position.\n",
      "   - The boundaries of the sorted and unsorted sublists are adjusted accordingly.\n",
      "\n",
      "3. **Example**:\n",
      "   Let's sort an array `[64, 25, 12, 22, 11]` using Selection Sort:\n",
      "   - Find the minimum element in the entire array and swap it with the first element: `[11, 25, 12, 22, 64]`\n",
      "   - Find the minimum element in the remaining array and swap it with the second element: `[11, 12, 25, 22, 64]`\n",
      "   - Repeat this process until the whole array is sorted: `[11, 12, 22, 25, 64]`\n",
      "\n",
      "4. **Efficiency**:\n",
      "   - Selection Sort has a time complexity of O(n^2), which means its efficiency decreases for large lists compared to more advanced algorithms like merge sort or quicksort.\n",
      "   - However, Selection Sort can be advantageous in situations where auxiliary memory is limited due to its in-place sorting nature.\n",
      "\n",
      "In summary, Selection Sort is a straightforward algorithm that repeatedly selects the smallest element from the unsorted part and moves it to the sorted part, gradually sorting the entire list. While it may not be the most efficient for large datasets, its simplicity and minimal memory usage make it a viable option in certain scenarios.\n"
     ]
    }
   ],
   "source": [
    "result = generate_answer(documents, user_input)"
   ]
  },
  {
   "cell_type": "code",
   "execution_count": 24,
   "id": "27d1c636-f8bb-4a67-9db2-6caa8cff6d0a",
   "metadata": {},
   "outputs": [
    {
     "data": {
      "text/markdown": [
       "Selection Sort is a simple and easy-to-understand sorting algorithm used in computer science. It is an in-place comparison-based sorting algorithm, meaning it doesn't require extra memory space for sorting. Here's a detailed explanation of how Selection Sort works:\n",
       "\n",
       "1. **Dividing the Input List**: The algorithm starts by dividing the input list into two parts:\n",
       "   - Sorted Sublist: Initially empty, it will gradually build up from left to right.\n",
       "   - Unsorted Sublist: Initially, the entire input list is unsorted.\n",
       "\n",
       "2. **Sorting Process**:\n",
       "   - The algorithm repeatedly finds the smallest (or largest) element from the unsorted sublist.\n",
       "   - It then swaps this element with the leftmost element of the unsorted sublist, putting it in its correct sorted position.\n",
       "   - The boundaries of the sorted and unsorted sublists are adjusted accordingly.\n",
       "\n",
       "3. **Example**:\n",
       "   Let's sort an array `[64, 25, 12, 22, 11]` using Selection Sort:\n",
       "   - Find the minimum element in the entire array and swap it with the first element: `[11, 25, 12, 22, 64]`\n",
       "   - Find the minimum element in the remaining array and swap it with the second element: `[11, 12, 25, 22, 64]`\n",
       "   - Repeat this process until the whole array is sorted: `[11, 12, 22, 25, 64]`\n",
       "\n",
       "4. **Efficiency**:\n",
       "   - Selection Sort has a time complexity of O(n^2), which means its efficiency decreases for large lists compared to more advanced algorithms like merge sort or quicksort.\n",
       "   - However, Selection Sort can be advantageous in situations where auxiliary memory is limited due to its in-place sorting nature.\n",
       "\n",
       "In summary, Selection Sort is a straightforward algorithm that repeatedly selects the smallest element from the unsorted part and moves it to the sorted part, gradually sorting the entire list. While it may not be the most efficient for large datasets, its simplicity and minimal memory usage make it a viable option in certain scenarios."
      ],
      "text/plain": [
       "<IPython.core.display.Markdown object>"
      ]
     },
     "execution_count": 24,
     "metadata": {},
     "output_type": "execute_result"
    }
   ],
   "source": [
    "from IPython.display import Markdown\n",
    "Markdown(result)"
   ]
  }
 ],
 "metadata": {
  "kernelspec": {
   "display_name": "test1",
   "language": "python",
   "name": "test1"
  },
  "language_info": {
   "codemirror_mode": {
    "name": "ipython",
    "version": 3
   },
   "file_extension": ".py",
   "mimetype": "text/x-python",
   "name": "python",
   "nbconvert_exporter": "python",
   "pygments_lexer": "ipython3",
   "version": "3.10.14"
  }
 },
 "nbformat": 4,
 "nbformat_minor": 5
}
